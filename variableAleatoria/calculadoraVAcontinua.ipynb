{
 "cells": [
  {
   "cell_type": "code",
   "execution_count": 1,
   "metadata": {},
   "outputs": [],
   "source": [
    "import sympy as sp "
   ]
  },
  {
   "cell_type": "code",
   "execution_count": 2,
   "metadata": {},
   "outputs": [],
   "source": [
    "#input recibimos una funcion de x, e intervalos\n",
    "def userInput():\n",
    "    intervals = []\n",
    "    valores = []\n",
    "    porpartes = int(input(\"Es una funcion por partes?\"))\n",
    "    if porpartes == 1:\n",
    "        nintervalos = int(input(\"cuantos intervalos tiene\")) \n",
    "        for i in range(nintervalos):\n",
    "            intervalstring = input(\"da intervalo y valor separado por comas\")\n",
    "            tempVector = intervalstring.split(',')\n",
    "            intervals.append(tempVector[0])\n",
    "            valores.append(tempVector[1])\n",
    "\n",
    "        return intervals,valores\n",
    "        \n",
    "    else:\n",
    "        fstring = input(\"da la funcion\")\n",
    "        return fstring"
   ]
  },
  {
   "cell_type": "code",
   "execution_count": 3,
   "metadata": {},
   "outputs": [],
   "source": [
    "#integral \n",
    "#vamos a integrar f de -00 a 00\n",
    "def integral(fstring):\n",
    "    x = sp.symbols('x')\n",
    "    f = sp.sympify(fstring)\n",
    "    fintegral = sp.integrate(f,(x,-sp.oo,sp.oo))\n",
    "\n",
    "    print(f\"la integral de -inf a +inf de f es {fintegral}\")\n",
    "\n",
    "    if (fintegral==1):\n",
    "        print(\"tu funcion es una funcion de distribucion de probabilidad\")\n",
    "        strInterval=input(\"da el intervalo [a,b] en la forma a,b para calcular la probabilidad de que la variable aleatoria tome valores en [a,b]\" )\n",
    "        a,b = strInterval.split(\",\")\n",
    "        fintegralab =  sp.integrate(f,(x,a,b))\n",
    "\n",
    "        print(f\"la integral de f(x) en el intervalo [a,b] es {fintegralab}\")\n",
    "    else:\n",
    "        print(\"tu funcion no es una distribucion de probabilidad\")\n"
   ]
  },
  {
   "cell_type": "code",
   "execution_count": 4,
   "metadata": {},
   "outputs": [],
   "source": [
    "#integral por trozos\n",
    "def integralTrozos(intervals,valores):\n",
    "    x= sp.symbols('x')\n",
    "    sumintegrals=0\n",
    "    for i in range(len(intervals)):\n",
    "        intersplitted = intervals[i].split('_')\n",
    "        fintegral = sp.integrate(valores[i],(x,intersplitted[0],intersplitted[1]))\n",
    "        sumintegrals = sumintegrals + fintegral\n",
    "    print(f\"la integral de f(x) es {sumintegrals}\")\n",
    "    \n",
    "    if (sumintegrals==1):\n",
    "        print(\"tu funcion es una funcion de distribucion de probabilidad\")\n",
    "        strInterval=input(\"da el intervalo [a,b] en la forma a,b para calcular la probabilidad de que la variable aleatoria tome valores en [a,b]\" )\n",
    "        a,b = strInterval.split(\",\")\n",
    "        for i in range(len(intervals)):\n",
    "            fintegralab = sp.integrate(valores[i],(a,b))\n",
    "            sumintegralsab = sumintegralsab + fintegralab\n",
    "        print(f\"La integral de f(x) en el intervalo [a,b] es {sumintegralsab}\")\n",
    "    else:\n",
    "        print(\"tu funcion no es una distribucion de probabilidad\")"
   ]
  },
  {
   "cell_type": "code",
   "execution_count": 5,
   "metadata": {},
   "outputs": [
    {
     "name": "stdout",
     "output_type": "stream",
     "text": [
      "la integral de -inf a +inf de f es oo\n",
      "<class 'sympy.core.numbers.Infinity'>\n"
     ]
    }
   ],
   "source": [
    "#main\n",
    "u = userInput()\n",
    "if type(u) == str:\n",
    "    integral(u)\n",
    "elif (type(u) == tuple):\n",
    "    integralTrozos(u[0], u[1])\n",
    "\n"
   ]
  }
 ],
 "metadata": {
  "kernelspec": {
   "display_name": "Python 3.11.5 ('metodosNumericos')",
   "language": "python",
   "name": "python3"
  },
  "language_info": {
   "codemirror_mode": {
    "name": "ipython",
    "version": 3
   },
   "file_extension": ".py",
   "mimetype": "text/x-python",
   "name": "python",
   "nbconvert_exporter": "python",
   "pygments_lexer": "ipython3",
   "version": "3.11.5"
  },
  "orig_nbformat": 4,
  "vscode": {
   "interpreter": {
    "hash": "70f21157dfb9bdb93b9a56176df5ae554353c3dbbb1f00dc09d3a373f9b6b7f9"
   }
  }
 },
 "nbformat": 4,
 "nbformat_minor": 2
}
