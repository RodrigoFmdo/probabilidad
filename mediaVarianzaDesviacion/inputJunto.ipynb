{
 "cells": [
  {
   "cell_type": "code",
   "execution_count": null,
   "metadata": {},
   "outputs": [],
   "source": [
    "import math\n",
    "import pandas as pd"
   ]
  },
  {
   "cell_type": "code",
   "execution_count": null,
   "metadata": {},
   "outputs": [],
   "source": [
    "def readInput():\n",
    "    userInput = input(\"\\nIngresa las probabilidades de cada evento separadas por espacios\\n\")\n",
    "    probsVector = userInput.split(\" \")\n",
    "\n",
    "    userInput2 = input(\"Ingresa la variable aleatoria de cada evento separada por espacios\\n\")\n",
    "    vaVector = userInput2.split(\" \")\n",
    "\n",
    "    return probsVector, vaVector    "
   ]
  },
  {
   "cell_type": "code",
   "execution_count": null,
   "metadata": {},
   "outputs": [],
   "source": [
    "def Esperanza( probsVector, vaVector ):\n",
    "    esperanza = 0.0\n",
    "    for event in range (len(probsVector)):\n",
    "        esperanza = esperanza + float(probsVector[event]) * float(vaVector[event])    \n",
    "    \n",
    "    return esperanza "
   ]
  },
  {
   "cell_type": "code",
   "execution_count": null,
   "metadata": {},
   "outputs": [],
   "source": [
    "def Varianza( probsVector, vaVector, esperanza):\n",
    "    varianza = 0.0 \n",
    "    for event in range (len(probsVector)):\n",
    "        varianza = varianza + ((float(vaVector[event]) - esperanza)**2) * float(probsVector[event])     \n",
    "\n",
    "    return varianza"
   ]
  },
  {
   "cell_type": "code",
   "execution_count": null,
   "metadata": {},
   "outputs": [],
   "source": [
    "def DesviacionTipica(varianza):\n",
    "    desviacionTipica = math.sqrt(varianza)\n",
    "\n",
    "    return desviacionTipica"
   ]
  },
  {
   "cell_type": "code",
   "execution_count": null,
   "metadata": {},
   "outputs": [],
   "source": [
    "def Plot(probsVector, vaVector, eventVector):\n",
    "    data = {'p(s)': probsVector, 'X(s)': vaVector}\n",
    "    df = pd.DataFrame(data, index = eventVector)\n",
    "\n",
    "    print(df)"
   ]
  },
  {
   "cell_type": "code",
   "execution_count": null,
   "metadata": {},
   "outputs": [],
   "source": [
    "#main\n",
    "probsVector, vaVector = readInput()\n",
    "eventVector = []\n",
    "\n",
    "for event in range(len(probsVector)):\n",
    "    eventVector.append(f\"evento {event+1}\")\n",
    "\n",
    "\n",
    "print(f\"vector de probabilidades:   {probsVector}\")\n",
    "print(f\"vector de variable aleatoria:   {vaVector}\")\n",
    "print(\"\\n\")\n",
    "\n",
    "esperanza = Esperanza( probsVector , vaVector )\n",
    "\n",
    "print(f\"esperanza: {esperanza}\")\n",
    "print(\"\\n\")\n",
    "\n",
    "varianza = Varianza( probsVector , vaVector , esperanza )\n",
    "print(f\"varianza: {varianza}\")\n",
    "print(\"\\n\")\n",
    "\n",
    "desviacionTipica = DesviacionTipica(varianza)\n",
    "print(f\"desviación típica {desviacionTipica}\")\n",
    "print(\"\\n\")\n",
    "\n",
    "Plot(probsVector, vaVector, eventVector)"
   ]
  }
 ],
 "metadata": {
  "kernelspec": {
   "display_name": "Python 3.10.12 ('tisean')",
   "language": "python",
   "name": "python3"
  },
  "language_info": {
   "codemirror_mode": {
    "name": "ipython",
    "version": 3
   },
   "file_extension": ".py",
   "mimetype": "text/x-python",
   "name": "python",
   "nbconvert_exporter": "python",
   "pygments_lexer": "ipython3",
   "version": "3.10.12"
  },
  "orig_nbformat": 4,
  "vscode": {
   "interpreter": {
    "hash": "3469279d0455f8e801762332d65955bae7047d6943c8bd0fdc5b4c2ce8aae16d"
   }
  }
 },
 "nbformat": 4,
 "nbformat_minor": 2
}
