{
 "cells": [
  {
   "cell_type": "code",
   "execution_count": null,
   "metadata": {},
   "outputs": [],
   "source": [
    "import math"
   ]
  },
  {
   "cell_type": "code",
   "execution_count": null,
   "metadata": {},
   "outputs": [],
   "source": [
    "def readInput(i):\n",
    "    userInput = input(f\"Ingresa las probabilidades del evento {i}\")\n",
    "    pI = userInput\n",
    "    userInput2 = input(f\"Ingresa la variable aleatoria del evento {i}\")\n",
    "    vaI = userInput2\n",
    "\n",
    "    return pI, vaI    "
   ]
  },
  {
   "cell_type": "code",
   "execution_count": null,
   "metadata": {},
   "outputs": [],
   "source": [
    "def Esperanza( probsVector, vaVector ):\n",
    "    esperanza = 0.0\n",
    "    for event in range (len(probsVector)):\n",
    "        esperanza = esperanza + float(probsVector[event]) * float(vaVector[event])    \n",
    "    \n",
    "    return esperanza "
   ]
  },
  {
   "cell_type": "code",
   "execution_count": null,
   "metadata": {},
   "outputs": [],
   "source": [
    "def Varianza( probsVector, vaVector, esperanza):\n",
    "    varianza = 0.0 \n",
    "    for event in range (len(probsVector)):\n",
    "        varianza = varianza + ((float(vaVector[event]) - esperanza)**2) * float(probsVector[event])     \n",
    "\n",
    "    return varianza"
   ]
  },
  {
   "cell_type": "code",
   "execution_count": null,
   "metadata": {},
   "outputs": [],
   "source": [
    "def DesviacionTipica(varianza):\n",
    "    desviacionTipica = math.sqrt(varianza)\n",
    "\n",
    "    return desviacionTipica"
   ]
  },
  {
   "cell_type": "code",
   "execution_count": null,
   "metadata": {},
   "outputs": [
    {
     "name": "stdout",
     "output_type": "stream",
     "text": [
      "vector de probabilidades:   ['.2', '.4', '.3', '.1']\n",
      "vector de variable aleatoria:   ['1', '2', '3', '4']\n",
      "\n",
      "\n",
      "esperanza: 2.3\n",
      "\n",
      "\n",
      "varianza: 0.81\n",
      "\n",
      "\n",
      "desviación típica 0.9\n",
      "\n",
      "\n"
     ]
    }
   ],
   "source": [
    "#main\n",
    "probsVector =[]\n",
    "vaVector= []\n",
    "\n",
    "for i in range(100000):\n",
    "    pI, vaI = readInput(i+1)\n",
    "    if (pI or vaI)==\"e\":\n",
    "        break    \n",
    "    probsVector.append(pI)\n",
    "    vaVector.append(vaI)\n",
    "    \n",
    "\n",
    "\n",
    "print(f\"vector de probabilidades:   {probsVector}\")\n",
    "print(f\"vector de variable aleatoria:   {vaVector}\")\n",
    "print(\"\\n\")\n",
    "\n",
    "esperanza = Esperanza( probsVector , vaVector )\n",
    "\n",
    "print(f\"esperanza: {esperanza}\")\n",
    "print(\"\\n\")\n",
    "\n",
    "varianza = Varianza( probsVector , vaVector , esperanza )\n",
    "print(f\"varianza: {varianza}\")\n",
    "print(\"\\n\")\n",
    "\n",
    "desviacionTipica = DesviacionTipica(varianza)\n",
    "print(f\"desviación típica {desviacionTipica}\")\n",
    "print(\"\\n\")"
   ]
  }
 ],
 "metadata": {
  "kernelspec": {
   "display_name": "Python 3.11.4 ('AIMAAA')",
   "language": "python",
   "name": "python3"
  },
  "language_info": {
   "codemirror_mode": {
    "name": "ipython",
    "version": 3
   },
   "file_extension": ".py",
   "mimetype": "text/x-python",
   "name": "python",
   "nbconvert_exporter": "python",
   "pygments_lexer": "ipython3",
   "version": "3.11.4"
  },
  "orig_nbformat": 4,
  "vscode": {
   "interpreter": {
    "hash": "7839366c6039c52012ba6680d75d0dab481c5ec6738eedcc2ad3288aed121cab"
   }
  }
 },
 "nbformat": 4,
 "nbformat_minor": 2
}
