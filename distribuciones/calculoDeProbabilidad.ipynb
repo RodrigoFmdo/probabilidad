{
 "cells": [
  {
   "cell_type": "code",
   "execution_count": 187,
   "metadata": {},
   "outputs": [],
   "source": [
    "import sympy as sp\n",
    "from sympy import pi, exp, sqrt,E"
   ]
  },
  {
   "cell_type": "code",
   "execution_count": 188,
   "metadata": {},
   "outputs": [],
   "source": [
    "def normal_distribution():\n",
    "    media = float(input(\"da media \"))\n",
    "    desviacionovarianza = input(\"vas a dar desviacion o varianza\")\n",
    "    if desviacionovarianza == \"0\":\n",
    "        desviacionEstandar = float(input(\"da desviacion estandar \"))\n",
    "        varianza = desviacionEstandar**2\n",
    "        x = sp.symbols('x')\n",
    "        funcionNormal = (1/(sqrt(2*pi)*desviacionEstandar))*(E**(-((x-media)**2))/(2*(varianza)))\n",
    "        f = sp.sympify(funcionNormal)\n",
    "\n",
    "        strInterval=input(\"da el intervalo [a,b] en forma a,b\" )\n",
    "        a,b = strInterval.split(\",\")\n",
    "        fintegralab =  sp.integrate(f,(x,a,b))\n",
    "\n",
    "        print(f\"la integral de f(x) en el intervalo [a,b] es {fintegralab}\")\n",
    "    elif desviacionovarianza == \"1\":\n",
    "        varianza = float(input(\"da varianza\"))\n",
    "        desviacionEstandar = sqrt(varianza)\n",
    "        x = sp.symbols('x')\n",
    "        funcionNormal = (1/(sqrt(2*pi)*desviacionEstandar))*(E**(-((x-media)**2))/(2*(varianza)))\n",
    " \n",
    "        f = sp.sympify(funcionNormal)\n",
    "\n",
    "        strInterval=input(\"da el intervalo [a,b] en forma a,b\" )\n",
    "        a,b = strInterval.split(\",\")\n",
    "        fintegralab =  sp.integrate(f,(x,a,b))\n",
    "\n",
    "        print(f\"la integral de f(x) en el intervalo [a,b] es {fintegralab}\")"
   ]
  },
  {
   "cell_type": "code",
   "execution_count": 189,
   "metadata": {},
   "outputs": [],
   "source": [
    "def gamma_distribution():\n",
    "    #aqui falta codigo"
   ]
  },
  {
   "cell_type": "code",
   "execution_count": 190,
   "metadata": {},
   "outputs": [],
   "source": [
    "def exponential_distribution():\n",
    "    #aqui falta codigo"
   ]
  },
  {
   "cell_type": "code",
   "execution_count": 194,
   "metadata": {},
   "outputs": [],
   "source": [
    "def default():\n",
    "    print(\"debes dar un numero del 1 al 3\")"
   ]
  },
  {
   "cell_type": "code",
   "execution_count": 192,
   "metadata": {},
   "outputs": [],
   "source": [
    "def firstMenu():\n",
    "    distribution_options = {\n",
    "        1: normal_distribution,\n",
    "        2: gamma_distribution,\n",
    "        3: exponential_distribution,\n",
    "    }\n",
    "\n",
    "    option = int(input(\"\\nPresiona 1 para normal\\nPresiona 2 para gama\\nPresiona 3 para exponencial\\n\"))\n",
    "\n",
    "    # Obtener la función asociada con la opción seleccionada\n",
    "    selected_function = distribution_options.get(option, default)\n",
    "\n",
    "    # Llamar a la función seleccionada\n",
    "    if selected_function != default:\n",
    "        result = selected_function()\n",
    "        return result\n",
    "    else:\n",
    "        return \"Opción no válida\"   "
   ]
  },
  {
   "cell_type": "code",
   "execution_count": 193,
   "metadata": {},
   "outputs": [
    {
     "name": "stdout",
     "output_type": "stream",
     "text": [
      "la integral de f(x) en el intervalo [a,b] es 1.7672397598778e-7*sqrt(2)\n"
     ]
    }
   ],
   "source": [
    "firstMenu()"
   ]
  }
 ],
 "metadata": {
  "kernelspec": {
   "display_name": "Python 3.11.5 ('metodosNumericos')",
   "language": "python",
   "name": "python3"
  },
  "language_info": {
   "codemirror_mode": {
    "name": "ipython",
    "version": 3
   },
   "file_extension": ".py",
   "mimetype": "text/x-python",
   "name": "python",
   "nbconvert_exporter": "python",
   "pygments_lexer": "ipython3",
   "version": "3.11.5"
  },
  "orig_nbformat": 4,
  "vscode": {
   "interpreter": {
    "hash": "70f21157dfb9bdb93b9a56176df5ae554353c3dbbb1f00dc09d3a373f9b6b7f9"
   }
  }
 },
 "nbformat": 4,
 "nbformat_minor": 2
}
