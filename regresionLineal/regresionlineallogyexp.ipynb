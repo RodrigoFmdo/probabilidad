{
 "cells": [
  {
   "cell_type": "code",
   "execution_count": null,
   "metadata": {},
   "outputs": [],
   "source": [
    "import matplotlib.pyplot as plt\n",
    "import pandas as pd\n",
    "data = pd.read_csv('data.csv')\n",
    "x = data.iloc[:, 0]\n",
    "y = data.iloc[:, 1]\n",
    "plt.scatter(x,y)\n",
    "plt.show()"
   ]
  },
  {
   "cell_type": "code",
   "execution_count": null,
   "metadata": {},
   "outputs": [],
   "source": [
    "# Gradient Descent for Linear Regression\n",
    "# y = predicted\n",
    "# yhat = true value \n",
    "# cost function = (y-yhat)**2 / N \n",
    "import numpy as np\n",
    "\n",
    "xnp = np.array(x)\n",
    "print(x)\n",
    "#numero de alumnos\n",
    "ynp = np.array(y)\n",
    "print(y)\n",
    "\n",
    "# Parameters\n",
    "w = 0.0 \n",
    "b = 0.0 \n",
    "\n",
    "# Hyperparameter \n",
    "learning_rate = 0.0001\n",
    "\n",
    "# Gradient descent function\n",
    "def descend(x, y, w, b, learning_rate): \n",
    "    dldw = 0.0 \n",
    "    dldb = 0.0 \n",
    "    N = x.shape[0]\n",
    "\n",
    "    # loss = (y-(wx+b)))**2\n",
    "    for xi, yi in zip(x,y): \n",
    "       dldw += -2*xi*(yi-(w*xi+b))\n",
    "       dldb += -2*(yi-(w*xi+b))\n",
    "    \n",
    "    # Make an update to the w parameter \n",
    "    w = w - learning_rate*(1/N)*dldw\n",
    "    b = b - learning_rate*(1/N)*dldb\n",
    "    return w, b \n",
    "\n",
    "# Iteratively make updates\n",
    "for i in range(500): \n",
    "    w,b = descend(x,y,w,b,learning_rate)\n",
    "    yhat = w*x + b\n",
    "    loss = np.divide(np.sum((y-yhat)**2, axis=0), x.shape[0]) \n",
    "    print(f'{i} loss is {loss}, paramters w:{w}, b:{b}')\n",
    "    "
   ]
  },
  {
   "cell_type": "code",
   "execution_count": null,
   "metadata": {},
   "outputs": [],
   "source": [
    "import matplotlib.pyplot as plt\n",
    "\n",
    "plt.rcParams['figure.figsize'] = (12.0, 9.0)\n",
    "plt.scatter(xnp,ynp)\n",
    "plt.plot(x,yhat, color='red')\n",
    "plt.show()\n"
   ]
  }
 ],
 "metadata": {
  "kernelspec": {
   "display_name": "Python 3.10.12 ('tisean')",
   "language": "python",
   "name": "python3"
  },
  "language_info": {
   "codemirror_mode": {
    "name": "ipython",
    "version": 3
   },
   "file_extension": ".py",
   "mimetype": "text/x-python",
   "name": "python",
   "nbconvert_exporter": "python",
   "pygments_lexer": "ipython3",
   "version": "3.10.12"
  },
  "orig_nbformat": 4,
  "vscode": {
   "interpreter": {
    "hash": "3469279d0455f8e801762332d65955bae7047d6943c8bd0fdc5b4c2ce8aae16d"
   }
  }
 },
 "nbformat": 4,
 "nbformat_minor": 2
}
